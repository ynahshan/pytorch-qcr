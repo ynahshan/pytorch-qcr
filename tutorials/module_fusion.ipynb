{
 "cells": [
  {
   "cell_type": "code",
   "execution_count": 1,
   "metadata": {},
   "outputs": [],
   "source": [
    "import sys\n",
    "sys.path.append('../')\n",
    "import torch\n",
    "import torch.nn as nn\n",
    "from torchvision import models\n",
    "from pyqcr.torchgraph.tracer import TorchTracer\n",
    "from pyqcr.transformation.module_fusion import Fuser"
   ]
  },
  {
   "cell_type": "code",
   "execution_count": 18,
   "metadata": {},
   "outputs": [],
   "source": [
    "def print_head(model, line_count=10):\n",
    "    print('\\n'.join(model.__repr__().split('\\n')[:line_count]))"
   ]
  },
  {
   "cell_type": "code",
   "execution_count": 19,
   "metadata": {
    "scrolled": true
   },
   "outputs": [
    {
     "name": "stdout",
     "output_type": "stream",
     "text": [
      "ResNet(\n",
      "  (conv1): Conv2d(3, 64, kernel_size=(7, 7), stride=(2, 2), padding=(3, 3), bias=False)\n",
      "  (bn1): BatchNorm2d(64, eps=1e-05, momentum=0.1, affine=True, track_running_stats=True)\n",
      "  (relu): ReLU(inplace=True)\n",
      "  (maxpool): MaxPool2d(kernel_size=3, stride=2, padding=1, dilation=1, ceil_mode=False)\n",
      "  (layer1): Sequential(\n",
      "    (0): BasicBlock(\n",
      "      (conv1): Conv2d(64, 64, kernel_size=(3, 3), stride=(1, 1), padding=(1, 1), bias=False)\n",
      "      (bn1): BatchNorm2d(64, eps=1e-05, momentum=0.1, affine=True, track_running_stats=True)\n",
      "      (relu): ReLU(inplace=True)\n"
     ]
    }
   ],
   "source": [
    "model = models.resnet18()\n",
    "print_head(model)"
   ]
  },
  {
   "cell_type": "code",
   "execution_count": 20,
   "metadata": {
    "scrolled": true
   },
   "outputs": [
    {
     "data": {
      "text/plain": [
       "{'Conv2d0': ['BatchNorm2d0'], 'Tensor0': ['Conv2d0'], 'BatchNorm2d0': ['ReLU0'], 'ReLU0': ['MaxPool2d0'], 'MaxPool2d0': ['Conv2d1', '__iadd__0'], 'Conv2d1': ['BatchNorm2d1'], '__iadd__0': ['ReLU2'], 'BatchNorm2d1': ['ReLU1'], 'ReLU1': ['Conv2d2'], 'Conv2d2': ['BatchNorm2d2'], 'BatchNorm2d2': ['__iadd__0'], 'ReLU2': ['Conv2d3', '__iadd__1'], 'Conv2d3': ['BatchNorm2d3'], '__iadd__1': ['ReLU4'], 'BatchNorm2d3': ['ReLU3'], 'ReLU3': ['Conv2d4'], 'Conv2d4': ['BatchNorm2d4'], 'BatchNorm2d4': ['__iadd__1'], 'ReLU4': ['Conv2d5', 'Conv2d7'], 'Conv2d5': ['BatchNorm2d5'], 'Conv2d7': ['BatchNorm2d7'], 'BatchNorm2d5': ['ReLU5'], 'ReLU5': ['Conv2d6'], 'Conv2d6': ['BatchNorm2d6'], 'BatchNorm2d6': ['__iadd__2'], '__iadd__2': ['ReLU6'], 'ReLU6': ['Conv2d8', '__iadd__3'], 'Conv2d8': ['BatchNorm2d8'], '__iadd__3': ['ReLU8'], 'BatchNorm2d7': ['__iadd__2'], 'BatchNorm2d11': ['__iadd__4'], 'Conv2d11': ['BatchNorm2d11'], 'BatchNorm2d8': ['ReLU7'], 'ReLU7': ['Conv2d9'], 'Conv2d9': ['BatchNorm2d9'], 'BatchNorm2d9': ['__iadd__3'], 'ReLU8': ['Conv2d10', 'Conv2d12'], 'Conv2d10': ['BatchNorm2d10'], 'Conv2d12': ['BatchNorm2d12'], 'BatchNorm2d10': ['ReLU9'], 'ReLU9': ['Conv2d11'], '__iadd__4': ['ReLU10'], 'ReLU10': ['Conv2d13', '__iadd__5'], 'Conv2d13': ['BatchNorm2d13'], '__iadd__5': ['ReLU12'], 'BatchNorm2d12': ['__iadd__4'], 'ReLU15': ['Conv2d19'], 'Conv2d19': ['BatchNorm2d19'], 'BatchNorm2d18': ['ReLU15'], 'BatchNorm2d13': ['ReLU11'], 'ReLU11': ['Conv2d14'], 'Conv2d14': ['BatchNorm2d14'], 'BatchNorm2d14': ['__iadd__5'], 'ReLU12': ['Conv2d15', 'Conv2d17'], 'Conv2d15': ['BatchNorm2d15'], 'Conv2d17': ['BatchNorm2d17'], 'BatchNorm2d15': ['ReLU13'], 'ReLU13': ['Conv2d16'], 'Conv2d16': ['BatchNorm2d16'], 'BatchNorm2d16': ['__iadd__6'], '__iadd__6': ['ReLU14'], 'ReLU14': ['Conv2d18', '__iadd__7'], 'Conv2d18': ['BatchNorm2d18'], '__iadd__7': ['ReLU16'], 'BatchNorm2d17': ['__iadd__6'], 'BatchNorm2d19': ['__iadd__7'], 'ReLU16': ['AdaptiveAvgPool2d0'], 'AdaptiveAvgPool2d0': ['flatten0'], 'flatten0': ['Linear0'], 'Linear0': ['Tensor1'], 'const0': ['flatten0'], 'Tensor1': []}"
      ]
     },
     "execution_count": 20,
     "metadata": {},
     "output_type": "execute_result"
    }
   ],
   "source": [
    "# User tracer to getnerate graph and set model.graph attribute\n",
    "# Currently graph not updated automatically when model changes. Requires careful usage.\n",
    "inp = torch.rand((1,3,224,224))\n",
    "with TorchTracer() as tt:\n",
    "    tt.trace_model(model, inp)\n",
    "    model.graph = tt.to_graph()\n",
    "\n",
    "model.graph.to_namegraph()"
   ]
  },
  {
   "cell_type": "markdown",
   "metadata": {},
   "source": [
    "### Inspect fusion patterns"
   ]
  },
  {
   "cell_type": "code",
   "execution_count": 4,
   "metadata": {},
   "outputs": [
    {
     "name": "stdout",
     "output_type": "stream",
     "text": [
      "0: Conv1d -> BatchNorm1d -> ReLU  \n",
      "1: Conv2d -> BatchNorm2d -> ReLU  \n",
      "2: Conv3d -> BatchNorm3d -> ReLU  \n",
      "3: Conv1d -> BatchNorm1d  \n",
      "4: Conv2d -> BatchNorm2d  \n",
      "5: Conv3d -> BatchNorm3d  \n",
      "6: BatchNorm2d -> ReLU  \n",
      "7: BatchNorm3d -> ReLU  \n",
      "8: Conv1d -> ReLU  \n",
      "9: Conv2d -> ReLU  \n",
      "10: Conv3d -> ReLU  \n",
      "11: Linear -> ReLU  \n"
     ]
    }
   ],
   "source": [
    "fuser = Fuser()\n",
    "\n",
    "# Those are all supported fusion patterns\n",
    "for j, p in enumerate(fuser.get_default_patterns()):\n",
    "    s = ''\n",
    "    for i, type_ in enumerate(p):\n",
    "        s += \"{} {} \".format(type_.__name__, '->' if i < len(p)-1 else '')\n",
    "    print('{}: {}'.format(j, s))"
   ]
  },
  {
   "cell_type": "code",
   "execution_count": 5,
   "metadata": {},
   "outputs": [
    {
     "data": {
      "text/plain": [
       "[((torch.nn.modules.conv.Conv2d,\n",
       "   torch.nn.modules.batchnorm.BatchNorm2d,\n",
       "   torch.nn.modules.activation.ReLU),\n",
       "  [['conv1', 'bn1', 'relu'],\n",
       "   ['layer1.0.conv1', 'layer1.0.bn1', 'layer1.0.relu'],\n",
       "   ['layer1.1.conv1', 'layer1.1.bn1', 'layer1.1.relu'],\n",
       "   ['layer2.0.conv1', 'layer2.0.bn1', 'layer2.0.relu'],\n",
       "   ['layer2.1.conv1', 'layer2.1.bn1', 'layer2.1.relu'],\n",
       "   ['layer3.0.conv1', 'layer3.0.bn1', 'layer3.0.relu'],\n",
       "   ['layer3.1.conv1', 'layer3.1.bn1', 'layer3.1.relu'],\n",
       "   ['layer4.1.conv1', 'layer4.1.bn1', 'layer4.1.relu'],\n",
       "   ['layer4.0.conv1', 'layer4.0.bn1', 'layer4.0.relu']]),\n",
       " ((torch.nn.modules.conv.Conv2d, torch.nn.modules.batchnorm.BatchNorm2d),\n",
       "  [['layer1.0.conv2', 'layer1.0.bn2'],\n",
       "   ['layer1.1.conv2', 'layer1.1.bn2'],\n",
       "   ['layer2.0.downsample.0', 'layer2.0.downsample.1'],\n",
       "   ['layer2.0.conv2', 'layer2.0.bn2'],\n",
       "   ['layer2.1.conv2', 'layer2.1.bn2'],\n",
       "   ['layer3.0.downsample.0', 'layer3.0.downsample.1'],\n",
       "   ['layer3.0.conv2', 'layer3.0.bn2'],\n",
       "   ['layer3.1.conv2', 'layer3.1.bn2'],\n",
       "   ['layer4.0.downsample.0', 'layer4.0.downsample.1'],\n",
       "   ['layer4.0.conv2', 'layer4.0.bn2'],\n",
       "   ['layer4.1.conv2', 'layer4.1.bn2']])]"
      ]
     },
     "execution_count": 5,
     "metadata": {},
     "output_type": "execute_result"
    }
   ],
   "source": [
    "# Find all fusable modules in the model, patterns are searched according to order above.\n",
    "fuser.find_fusable_modules(model)"
   ]
  },
  {
   "cell_type": "markdown",
   "metadata": {},
   "source": [
    "### Apply fusion pattens on model"
   ]
  },
  {
   "cell_type": "code",
   "execution_count": 23,
   "metadata": {
    "scrolled": false
   },
   "outputs": [
    {
     "name": "stdout",
     "output_type": "stream",
     "text": [
      "ResNet(\n",
      "  (conv1): ConvReLU2d(\n",
      "    (0): Conv2d(3, 64, kernel_size=(7, 7), stride=(2, 2), padding=(3, 3))\n",
      "    (1): ReLU(inplace=True)\n",
      "  )\n",
      "  (bn1): Identity()\n",
      "  (relu): Identity()\n",
      "  (maxpool): MaxPool2d(kernel_size=3, stride=2, padding=1, dilation=1, ceil_mode=False)\n",
      "  (layer1): Sequential(\n",
      "    (0): BasicBlock(\n",
      "      (conv1): ConvReLU2d(\n",
      "        (0): Conv2d(64, 64, kernel_size=(3, 3), stride=(1, 1), padding=(1, 1))\n",
      "        (1): ReLU(inplace=True)\n",
      "      )\n",
      "      (bn1): Identity()\n",
      "      (relu): Identity()\n",
      "      (conv2): Conv2d(64, 64, kernel_size=(3, 3), stride=(1, 1), padding=(1, 1))\n",
      "      (bn2): Identity()\n",
      "    )\n",
      "    (1): BasicBlock(\n",
      "      (conv1): ConvReLU2d(\n",
      "        (0): Conv2d(64, 64, kernel_size=(3, 3), stride=(1, 1), padding=(1, 1))\n",
      "        (1): ReLU(inplace=True)\n",
      "      )\n",
      "      (bn1): Identity()\n"
     ]
    }
   ],
   "source": [
    "model.eval()\n",
    "fuser = Fuser()\n",
    "# Apply all fusion patterns by defauld according to the predefined order\n",
    "fused = fuser.fuse(model)\n",
    "print_head(fused, line_count=25)"
   ]
  },
  {
   "cell_type": "code",
   "execution_count": 24,
   "metadata": {},
   "outputs": [
    {
     "name": "stdout",
     "output_type": "stream",
     "text": [
      "ResNet(\n",
      "  (conv1): ConvReLU2d(\n",
      "    (0): Conv2d(3, 64, kernel_size=(7, 7), stride=(2, 2), padding=(3, 3))\n",
      "    (1): ReLU(inplace=True)\n",
      "  )\n",
      "  (bn1): Identity()\n",
      "  (relu): Identity()\n",
      "  (maxpool): MaxPool2d(kernel_size=3, stride=2, padding=1, dilation=1, ceil_mode=False)\n",
      "  (layer1): Sequential(\n",
      "    (0): BasicBlock(\n",
      "      (conv1): ConvReLU2d(\n",
      "        (0): Conv2d(64, 64, kernel_size=(3, 3), stride=(1, 1), padding=(1, 1))\n",
      "        (1): ReLU(inplace=True)\n",
      "      )\n",
      "      (bn1): Identity()\n",
      "      (relu): Identity()\n",
      "      (conv2): Conv2d(64, 64, kernel_size=(3, 3), stride=(1, 1), padding=(1, 1))\n",
      "      (bn2): Identity()\n",
      "    )\n",
      "    (1): BasicBlock(\n",
      "      (conv1): ConvReLU2d(\n",
      "        (0): Conv2d(64, 64, kernel_size=(3, 3), stride=(1, 1), padding=(1, 1))\n",
      "        (1): ReLU(inplace=True)\n",
      "      )\n",
      "      (bn1): Identity()\n"
     ]
    }
   ],
   "source": [
    "# Or use specific patterns\n",
    "fused = fuser.fuse(model, patterns=[[nn.Conv2d, nn.BatchNorm2d, nn.ReLU], [nn.Conv2d, nn.BatchNorm2d]])\n",
    "print_head(fused, line_count=25)"
   ]
  },
  {
   "cell_type": "code",
   "execution_count": 25,
   "metadata": {
    "scrolled": false
   },
   "outputs": [
    {
     "name": "stdout",
     "output_type": "stream",
     "text": [
      "ResNet(\n",
      "  (conv1): ConvBnReLU2d(\n",
      "    (0): Conv2d(3, 64, kernel_size=(7, 7), stride=(2, 2), padding=(3, 3), bias=False)\n",
      "    (1): BatchNorm2d(64, eps=1e-05, momentum=0.1, affine=True, track_running_stats=True)\n",
      "    (2): ReLU(inplace=True)\n",
      "  )\n",
      "  (bn1): Identity()\n",
      "  (relu): Identity()\n",
      "  (maxpool): MaxPool2d(kernel_size=3, stride=2, padding=1, dilation=1, ceil_mode=False)\n",
      "  (layer1): Sequential(\n",
      "    (0): BasicBlock(\n",
      "      (conv1): ConvBnReLU2d(\n",
      "        (0): Conv2d(64, 64, kernel_size=(3, 3), stride=(1, 1), padding=(1, 1), bias=False)\n",
      "        (1): BatchNorm2d(64, eps=1e-05, momentum=0.1, affine=True, track_running_stats=True)\n",
      "        (2): ReLU(inplace=True)\n",
      "      )\n",
      "      (bn1): Identity()\n",
      "      (relu): Identity()\n",
      "      (conv2): ConvBn2d(\n",
      "        (0): Conv2d(64, 64, kernel_size=(3, 3), stride=(1, 1), padding=(1, 1), bias=False)\n",
      "        (1): BatchNorm2d(64, eps=1e-05, momentum=0.1, affine=True, track_running_stats=True)\n",
      "      )\n",
      "      (bn2): Identity()\n",
      "    )\n",
      "    (1): BasicBlock(\n"
     ]
    }
   ],
   "source": [
    "# use mode.train() or model.eval() to fuse for training or for evaluation\n",
    "model.train()\n",
    "fused = fuser.fuse(model)\n",
    "print_head(fused, line_count=25)"
   ]
  }
 ],
 "metadata": {
  "kernelspec": {
   "display_name": "dist",
   "language": "python",
   "name": "dist"
  },
  "language_info": {
   "codemirror_mode": {
    "name": "ipython",
    "version": 3
   },
   "file_extension": ".py",
   "mimetype": "text/x-python",
   "name": "python",
   "nbconvert_exporter": "python",
   "pygments_lexer": "ipython3",
   "version": "3.7.2"
  },
  "pycharm": {
   "stem_cell": {
    "cell_type": "raw",
    "source": [],
    "metadata": {
     "collapsed": false
    }
   }
  }
 },
 "nbformat": 4,
 "nbformat_minor": 1
}