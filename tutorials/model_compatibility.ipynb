{
 "cells": [
  {
   "cell_type": "code",
   "execution_count": null,
   "metadata": {},
   "outputs": [],
   "source": [
    "import torch\n",
    "from torchvision import models\n",
    "import sys\n",
    "sys.path.append('../')\n",
    "from pyqcr.torchgraph.tracer import TorchTracer\n",
    "from pyqcr.quantization import compatability as comp"
   ]
  },
  {
   "cell_type": "code",
   "execution_count": null,
   "metadata": {},
   "outputs": [],
   "source": [
    "model = models.resnet18()\n",
    "inp = torch.rand((1,3,224,224))\n",
    "with TorchTracer() as tt:\n",
    "    tt.trace_model(model, inp)\n",
    "    model.graph = tt.to_graph()\n",
    "\n",
    "model.graph.to_namegraph()"
   ]
  },
  {
   "cell_type": "code",
   "execution_count": null,
   "metadata": {},
   "outputs": [],
   "source": [
    "# Find all modules which used multiple times during forward. \n",
    "# If there is reused modules pytorch1.6 quantization won't work correctly.\n",
    "comp.get_reused_modules(model)"
   ]
  },
  {
   "cell_type": "code",
   "execution_count": null,
   "metadata": {},
   "outputs": [],
   "source": [
    "# In order to quantize pytorch model with 1.6 API we need to convert all non-module operations to modules.\n",
    "comp.get_non_module_ops(model)"
   ]
  }
 ],
 "metadata": {
  "kernelspec": {
   "display_name": "dist",
   "language": "python",
   "name": "dist"
  },
  "language_info": {
   "codemirror_mode": {
    "name": "ipython",
    "version": 3
   },
   "file_extension": ".py",
   "mimetype": "text/x-python",
   "name": "python",
   "nbconvert_exporter": "python",
   "pygments_lexer": "ipython3",
   "version": "3.7.2"
  }
 },
 "nbformat": 4,
 "nbformat_minor": 4
}
