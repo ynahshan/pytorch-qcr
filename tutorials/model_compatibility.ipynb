{
 "cells": [
  {
   "cell_type": "code",
   "execution_count": 5,
   "metadata": {},
   "outputs": [],
   "source": [
    "import torch\n",
    "import torch.nn as nn\n",
    "from torchvision import models\n",
    "import sys\n",
    "sys.path.append('../')\n",
    "from pyqcr.torchgraph.tracer import TorchTracer\n",
    "from pyqcr.transformation.module_fusion import Fuser\n",
    "from pyqcr.quantization import compatability as comp"
   ]
  },
  {
   "cell_type": "code",
   "execution_count": 2,
   "metadata": {},
   "outputs": [
    {
     "data": {
      "text/plain": [
       "{'Conv2d0': ['BatchNorm2d0'], 'Tensor0': ['Conv2d0'], 'BatchNorm2d0': ['ReLU0'], 'ReLU0': ['MaxPool2d0'], 'MaxPool2d0': ['Conv2d1', '__iadd__0'], 'Conv2d1': ['BatchNorm2d1'], '__iadd__0': ['ReLU2'], 'BatchNorm2d1': ['ReLU1'], 'ReLU1': ['Conv2d2'], 'Conv2d2': ['BatchNorm2d2'], 'BatchNorm2d2': ['__iadd__0'], 'ReLU2': ['Conv2d3', '__iadd__1'], 'Conv2d3': ['BatchNorm2d3'], '__iadd__1': ['ReLU4'], 'BatchNorm2d3': ['ReLU3'], 'ReLU3': ['Conv2d4'], 'Conv2d4': ['BatchNorm2d4'], 'BatchNorm2d4': ['__iadd__1'], 'ReLU4': ['Conv2d5', 'Conv2d7'], 'Conv2d5': ['BatchNorm2d5'], 'Conv2d7': ['BatchNorm2d7'], 'BatchNorm2d5': ['ReLU5'], 'ReLU5': ['Conv2d6'], 'Conv2d6': ['BatchNorm2d6'], 'BatchNorm2d6': ['__iadd__2'], '__iadd__2': ['ReLU6'], 'ReLU6': ['Conv2d8', '__iadd__3'], 'Conv2d8': ['BatchNorm2d8'], '__iadd__3': ['ReLU8'], 'BatchNorm2d7': ['__iadd__2'], 'BatchNorm2d8': ['ReLU7'], 'ReLU7': ['Conv2d9'], 'Conv2d9': ['BatchNorm2d9'], 'BatchNorm2d9': ['__iadd__3'], 'ReLU8': ['Conv2d10', 'Conv2d12'], 'Conv2d10': ['BatchNorm2d10'], 'Conv2d12': ['BatchNorm2d12'], 'BatchNorm2d10': ['ReLU9'], 'ReLU9': ['Conv2d11'], 'Conv2d11': ['BatchNorm2d11'], 'BatchNorm2d11': ['__iadd__4'], '__iadd__4': ['ReLU10'], 'ReLU10': ['Conv2d13', '__iadd__5'], 'Conv2d13': ['BatchNorm2d13'], '__iadd__5': ['ReLU12'], 'BatchNorm2d12': ['__iadd__4'], 'BatchNorm2d17': ['__iadd__6'], 'Conv2d17': ['BatchNorm2d17'], 'BatchNorm2d13': ['ReLU11'], 'ReLU11': ['Conv2d14'], 'Conv2d14': ['BatchNorm2d14'], 'BatchNorm2d14': ['__iadd__5'], 'ReLU12': ['Conv2d15', 'Conv2d17'], 'Conv2d15': ['BatchNorm2d15'], 'BatchNorm2d15': ['ReLU13'], 'ReLU13': ['Conv2d16'], 'Conv2d16': ['BatchNorm2d16'], 'BatchNorm2d16': ['__iadd__6'], '__iadd__6': ['ReLU14'], 'ReLU14': ['Conv2d18', '__iadd__7'], 'Conv2d18': ['BatchNorm2d18'], '__iadd__7': ['ReLU16'], 'BatchNorm2d18': ['ReLU15'], 'ReLU15': ['Conv2d19'], 'Conv2d19': ['BatchNorm2d19'], 'BatchNorm2d19': ['__iadd__7'], 'ReLU16': ['AdaptiveAvgPool2d0'], 'AdaptiveAvgPool2d0': ['flatten0'], 'flatten0': ['Linear0'], 'Linear0': ['Tensor1'], 'const0': ['flatten0'], 'Tensor1': []}"
      ]
     },
     "execution_count": 2,
     "metadata": {},
     "output_type": "execute_result"
    }
   ],
   "source": [
    "model = models.resnet18()\n",
    "inp = torch.rand((1,3,224,224))\n",
    "with TorchTracer() as tt:\n",
    "    tt.trace_model(model, inp)\n",
    "    model.graph = tt.to_graph()\n",
    "\n",
    "model.graph.to_namegraph()"
   ]
  },
  {
   "cell_type": "code",
   "execution_count": 9,
   "metadata": {},
   "outputs": [
    {
     "data": {
      "text/plain": [
       "{'graph_names': ['ReLU2',\n",
       "  'ReLU4',\n",
       "  'ReLU6',\n",
       "  'ReLU8',\n",
       "  'ReLU10',\n",
       "  'ReLU12',\n",
       "  'ReLU14',\n",
       "  'ReLU16'],\n",
       " 'model_names': ['layer1.0.relu',\n",
       "  'layer1.1.relu',\n",
       "  'layer2.0.relu',\n",
       "  'layer2.1.relu',\n",
       "  'layer3.0.relu',\n",
       "  'layer3.1.relu',\n",
       "  'layer4.0.relu',\n",
       "  'layer4.1.relu']}"
      ]
     },
     "execution_count": 9,
     "metadata": {},
     "output_type": "execute_result"
    }
   ],
   "source": [
    "# Find all modules which used multiple times during forward. \n",
    "# If there is reused modules pytorch1.6 quantization won't work correctly.\n",
    "comp.get_reused_modules(model)"
   ]
  },
  {
   "cell_type": "code",
   "execution_count": 10,
   "metadata": {},
   "outputs": [
    {
     "data": {
      "text/plain": [
       "['__iadd__0',\n",
       " '__iadd__1',\n",
       " '__iadd__2',\n",
       " '__iadd__3',\n",
       " '__iadd__4',\n",
       " '__iadd__5',\n",
       " '__iadd__6',\n",
       " '__iadd__7',\n",
       " 'flatten0']"
      ]
     },
     "execution_count": 10,
     "metadata": {},
     "output_type": "execute_result"
    }
   ],
   "source": [
    "# In order to quantize pytorch model with 1.6 API we need to convert all non-module operations to modules.\n",
    "comp.get_non_module_ops(model)"
   ]
  }
 ],
 "metadata": {
  "kernelspec": {
   "display_name": "dist",
   "language": "python",
   "name": "dist"
  },
  "language_info": {
   "codemirror_mode": {
    "name": "ipython",
    "version": 3
   },
   "file_extension": ".py",
   "mimetype": "text/x-python",
   "name": "python",
   "nbconvert_exporter": "python",
   "pygments_lexer": "ipython3",
   "version": "3.7.2"
  }
 },
 "nbformat": 4,
 "nbformat_minor": 4
}
