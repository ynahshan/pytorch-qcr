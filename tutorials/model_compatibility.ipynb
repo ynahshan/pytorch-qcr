{
 "cells": [
  {
   "cell_type": "code",
   "execution_count": 1,
   "metadata": {},
   "outputs": [],
   "source": [
    "import torch\n",
    "from torchvision import models\n",
    "import sys\n",
    "sys.path.append('../')\n",
    "from pyqcr.torchgraph.tracer import TorchTracer\n",
    "from pyqcr.quantization import compatability as comp"
   ]
  },
  {
   "cell_type": "code",
   "execution_count": 5,
   "metadata": {},
   "outputs": [
    {
     "data": {
      "text/plain": [
       "{'Conv2d0': ['BatchNorm2d0'], 'Tensor0': ['Conv2d0'], 'BatchNorm2d0': ['ReLU60'], 'ReLU60': ['Conv2d1'], 'Conv2d1': ['BatchNorm2d1'], 'BatchNorm2d1': ['ReLU61'], 'ReLU61': ['Conv2d2'], 'Conv2d2': ['BatchNorm2d2'], 'BatchNorm2d2': ['Conv2d3'], 'Conv2d3': ['BatchNorm2d3'], 'BatchNorm2d3': ['ReLU62'], 'ReLU62': ['Conv2d4'], 'Conv2d4': ['BatchNorm2d4'], 'BatchNorm2d4': ['ReLU63'], 'ReLU63': ['Conv2d5'], 'Conv2d5': ['BatchNorm2d5'], 'BatchNorm2d5': ['Conv2d6', '__add__0'], 'Conv2d6': ['BatchNorm2d6'], '__add__0': ['Conv2d9'], 'BatchNorm2d6': ['ReLU64'], 'ReLU64': ['Conv2d7'], 'Conv2d7': ['BatchNorm2d7'], 'BatchNorm2d7': ['ReLU65'], 'ReLU65': ['Conv2d8'], 'Conv2d8': ['BatchNorm2d8'], 'BatchNorm2d8': ['__add__0'], 'Conv2d9': ['BatchNorm2d9'], 'BatchNorm2d9': ['ReLU66'], 'ReLU66': ['Conv2d10'], 'Conv2d10': ['BatchNorm2d10'], 'BatchNorm2d10': ['ReLU67'], 'ReLU67': ['Conv2d11'], 'Conv2d11': ['BatchNorm2d11'], 'BatchNorm2d11': ['Conv2d12', '__add__1'], 'Conv2d12': ['BatchNorm2d12'], '__add__1': ['Conv2d15', '__add__2'], 'BatchNorm2d12': ['ReLU68'], 'ReLU68': ['Conv2d13'], 'Conv2d13': ['BatchNorm2d13'], 'BatchNorm2d13': ['ReLU69'], 'ReLU69': ['Conv2d14'], 'Conv2d14': ['BatchNorm2d14'], 'BatchNorm2d14': ['__add__1'], 'BatchNorm2d20': ['Conv2d21', '__add__3'], 'Conv2d20': ['BatchNorm2d20'], 'Conv2d15': ['BatchNorm2d15'], '__add__2': ['Conv2d18'], 'BatchNorm2d15': ['ReLU610'], 'ReLU610': ['Conv2d16'], 'Conv2d16': ['BatchNorm2d16'], 'BatchNorm2d16': ['ReLU611'], 'ReLU611': ['Conv2d17'], 'Conv2d17': ['BatchNorm2d17'], 'BatchNorm2d17': ['__add__2'], 'Conv2d21': ['BatchNorm2d21'], '__add__3': ['Conv2d24', '__add__4'], 'Conv2d18': ['BatchNorm2d18'], 'BatchNorm2d18': ['ReLU612'], 'ReLU612': ['Conv2d19'], 'Conv2d19': ['BatchNorm2d19'], 'BatchNorm2d19': ['ReLU613'], 'ReLU613': ['Conv2d20'], 'BatchNorm2d21': ['ReLU614'], 'ReLU614': ['Conv2d22'], 'Conv2d22': ['BatchNorm2d22'], 'BatchNorm2d22': ['ReLU615'], 'ReLU615': ['Conv2d23'], 'Conv2d23': ['BatchNorm2d23'], 'BatchNorm2d23': ['__add__3'], '__add__4': ['Conv2d27', '__add__5'], 'Conv2d30': ['BatchNorm2d30'], 'BatchNorm2d26': ['__add__4'], '__add__5': ['Conv2d30'], 'Conv2d24': ['BatchNorm2d24'], 'BatchNorm2d24': ['ReLU616'], 'ReLU616': ['Conv2d25'], 'Conv2d25': ['BatchNorm2d25'], 'BatchNorm2d25': ['ReLU617'], 'ReLU617': ['Conv2d26'], 'Conv2d26': ['BatchNorm2d26'], 'Conv2d27': ['BatchNorm2d27'], 'BatchNorm2d27': ['ReLU618'], 'ReLU618': ['Conv2d28'], 'Conv2d28': ['BatchNorm2d28'], 'BatchNorm2d28': ['ReLU619'], 'ReLU619': ['Conv2d29'], 'Conv2d29': ['BatchNorm2d29'], 'BatchNorm2d29': ['__add__5'], 'BatchNorm2d30': ['ReLU620'], 'ReLU620': ['Conv2d31'], 'Conv2d31': ['BatchNorm2d31'], 'BatchNorm2d31': ['ReLU621'], 'ReLU621': ['Conv2d32'], 'Conv2d32': ['BatchNorm2d32'], 'BatchNorm2d32': ['Conv2d33', '__add__6'], 'Conv2d33': ['BatchNorm2d33'], '__add__6': ['Conv2d36', '__add__7'], 'BatchNorm2d33': ['ReLU622'], 'ReLU622': ['Conv2d34'], 'Conv2d34': ['BatchNorm2d34'], 'BatchNorm2d34': ['ReLU623'], 'ReLU623': ['Conv2d35'], 'Conv2d35': ['BatchNorm2d35'], 'BatchNorm2d35': ['__add__6'], 'Conv2d36': ['BatchNorm2d36'], '__add__7': ['Conv2d39'], 'BatchNorm2d36': ['ReLU624'], 'ReLU624': ['Conv2d37'], 'Conv2d37': ['BatchNorm2d37'], 'BatchNorm2d37': ['ReLU625'], 'ReLU625': ['Conv2d38'], 'Conv2d38': ['BatchNorm2d38'], 'BatchNorm2d38': ['__add__7'], 'Conv2d39': ['BatchNorm2d39'], 'BatchNorm2d39': ['ReLU626'], 'ReLU626': ['Conv2d40'], 'Conv2d40': ['BatchNorm2d40'], 'BatchNorm2d40': ['ReLU627'], 'ReLU627': ['Conv2d41'], 'Conv2d41': ['BatchNorm2d41'], 'BatchNorm2d41': ['Conv2d42', '__add__8'], 'Conv2d42': ['BatchNorm2d42'], '__add__8': ['Conv2d45', '__add__9'], 'BatchNorm2d42': ['ReLU628'], 'ReLU628': ['Conv2d43'], 'Conv2d43': ['BatchNorm2d43'], 'BatchNorm2d43': ['ReLU629'], 'ReLU629': ['Conv2d44'], 'Conv2d44': ['BatchNorm2d44'], 'BatchNorm2d44': ['__add__8'], 'Conv2d45': ['BatchNorm2d45'], '__add__9': ['Conv2d48'], 'BatchNorm2d45': ['ReLU630'], 'ReLU630': ['Conv2d46'], 'Conv2d46': ['BatchNorm2d46'], 'BatchNorm2d46': ['ReLU631'], 'ReLU631': ['Conv2d47'], 'Conv2d47': ['BatchNorm2d47'], 'BatchNorm2d47': ['__add__9'], 'Conv2d48': ['BatchNorm2d48'], 'BatchNorm2d48': ['ReLU632'], 'ReLU632': ['Conv2d49'], 'Conv2d49': ['BatchNorm2d49'], 'BatchNorm2d49': ['ReLU633'], 'ReLU633': ['Conv2d50'], 'Conv2d50': ['BatchNorm2d50'], 'BatchNorm2d50': ['Conv2d51'], 'Conv2d51': ['BatchNorm2d51'], 'BatchNorm2d51': ['ReLU634'], 'ReLU634': ['adaptive_avg_pool2d0'], 'adaptive_avg_pool2d0': ['reshape0'], 'const0': ['adaptive_avg_pool2d0'], 'reshape0': ['Dropout0'], 'Dropout0': ['Linear0'], 'const1': ['reshape0'], 'const2': ['reshape0'], 'Linear0': ['Tensor1'], 'Tensor1': []}"
      ]
     },
     "execution_count": 5,
     "metadata": {},
     "output_type": "execute_result"
    }
   ],
   "source": [
    "model = models.mobilenet_v2()\n",
    "inp = torch.rand((1,3,224,224))\n",
    "with TorchTracer() as tt:\n",
    "    tt.trace_model(model, inp)\n",
    "    model.graph = tt.to_graph()\n",
    "\n",
    "model.graph.to_namegraph()"
   ]
  },
  {
   "cell_type": "code",
   "execution_count": 6,
   "metadata": {},
   "outputs": [
    {
     "data": {
      "text/plain": [
       "{'graph_names': [], 'model_names': []}"
      ]
     },
     "execution_count": 6,
     "metadata": {},
     "output_type": "execute_result"
    }
   ],
   "source": [
    "# Find all modules which used multiple times during forward. \n",
    "# If there is reused modules pytorch1.6 quantization won't work correctly.\n",
    "comp.get_reused_modules(model)"
   ]
  },
  {
   "cell_type": "code",
   "execution_count": 7,
   "metadata": {},
   "outputs": [
    {
     "data": {
      "text/plain": [
       "['__add__0',\n",
       " '__add__1',\n",
       " '__add__2',\n",
       " '__add__3',\n",
       " '__add__4',\n",
       " '__add__5',\n",
       " '__add__6',\n",
       " '__add__7',\n",
       " '__add__8',\n",
       " '__add__9',\n",
       " 'adaptive_avg_pool2d0',\n",
       " 'reshape0']"
      ]
     },
     "execution_count": 7,
     "metadata": {},
     "output_type": "execute_result"
    }
   ],
   "source": [
    "# In order to quantize pytorch model with 1.6 API we need to convert all non-module operations to modules.\n",
    "comp.get_non_module_ops(model)"
   ]
  }
 ],
 "metadata": {
  "kernelspec": {
   "display_name": "dist",
   "language": "python",
   "name": "dist"
  },
  "language_info": {
   "codemirror_mode": {
    "name": "ipython",
    "version": 3
   },
   "file_extension": ".py",
   "mimetype": "text/x-python",
   "name": "python",
   "nbconvert_exporter": "python",
   "pygments_lexer": "ipython3",
   "version": "3.7.2"
  }
 },
 "nbformat": 4,
 "nbformat_minor": 4
}
