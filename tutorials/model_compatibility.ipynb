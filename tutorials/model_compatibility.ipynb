{
 "cells": [
  {
   "cell_type": "code",
   "execution_count": 1,
   "metadata": {},
   "outputs": [],
   "source": [
    "import torch\n",
    "from torchvision import models\n",
    "import sys\n",
    "sys.path.append('../')\n",
    "from pyqcr.torchgraph.tracer import TorchTracer\n",
    "from pyqcr.quantization import compatability as comp"
   ]
  },
  {
   "cell_type": "code",
   "execution_count": 9,
   "metadata": {},
   "outputs": [
    {
     "data": {
      "text/plain": [
       "{'Conv2d0': ['BatchNorm2d0'], 'Tensor0': ['Conv2d0'], 'BatchNorm2d0': ['ReLU0'], 'ReLU0': ['MaxPool2d0'], 'MaxPool2d0': ['cat0', 'cat1', 'cat2', 'cat3', 'cat4', 'cat5', 'cat6'], 'cat0': ['BatchNorm2d1'], 'cat1': ['BatchNorm2d3'], 'cat2': ['BatchNorm2d5'], 'cat3': ['BatchNorm2d7'], 'cat4': ['BatchNorm2d9'], 'cat5': ['BatchNorm2d11'], 'cat6': ['BatchNorm2d13'], 'ReLU15': ['Conv2d15'], 'Conv2d15': ['cat8', 'cat9', 'cat10', 'cat11', 'cat12', 'cat13', 'cat14', 'cat15', 'cat16', 'cat17', 'cat18', 'cat19'], 'BatchNorm2d15': ['ReLU15'], 'const0': ['cat0'], 'BatchNorm2d1': ['ReLU1'], 'ReLU1': ['Conv2d1'], 'Conv2d1': ['BatchNorm2d2'], 'BatchNorm2d2': ['ReLU2'], 'ReLU2': ['Conv2d2'], 'Conv2d2': ['cat1', 'cat2', 'cat3', 'cat4', 'cat5', 'cat6'], 'cat7': ['cat4', 'cat5', 'cat6', 'BatchNorm2d14'], 'cat8': ['BatchNorm2d16'], 'cat9': ['BatchNorm2d18'], 'cat10': ['BatchNorm2d20'], 'cat11': ['BatchNorm2d22'], 'cat12': ['BatchNorm2d24'], 'cat13': ['BatchNorm2d26'], 'cat14': ['BatchNorm2d28'], 'cat15': ['BatchNorm2d30'], 'cat16': ['BatchNorm2d32'], 'cat17': ['BatchNorm2d34'], 'cat18': ['BatchNorm2d36'], 'cat19': ['BatchNorm2d38'], 'BatchNorm2d52': ['ReLU52'], 'AvgPool2d0': ['cat7', 'cat8', 'cat9', 'cat10', 'cat11', 'cat12', 'cat13', 'cat14', 'cat15', 'cat16', 'cat17', 'cat18', 'cat19'], 'Conv2d51': ['BatchNorm2d52'], 'const1': ['cat1'], 'BatchNorm2d3': ['ReLU3'], 'ReLU3': ['Conv2d3'], 'Conv2d3': ['BatchNorm2d4'], 'BatchNorm2d4': ['ReLU4'], 'ReLU4': ['Conv2d4'], 'Conv2d4': ['cat2', 'cat3', 'cat4', 'cat5', 'cat6'], 'Conv2d14': ['BatchNorm2d15'], 'const2': ['cat2'], 'BatchNorm2d5': ['ReLU5'], 'ReLU5': ['Conv2d5'], 'Conv2d5': ['BatchNorm2d6'], 'BatchNorm2d6': ['ReLU6'], 'ReLU6': ['Conv2d6'], 'Conv2d6': ['cat3', 'cat4', 'cat5', 'cat6'], 'ReLU17': ['Conv2d17'], 'Conv2d17': ['cat9', 'cat10', 'cat11', 'cat12', 'cat13', 'cat14', 'cat15', 'cat16', 'cat17', 'cat18', 'cat19'], 'BatchNorm2d17': ['ReLU17'], 'const3': ['cat3'], 'BatchNorm2d7': ['ReLU7'], 'ReLU7': ['Conv2d7'], 'Conv2d7': ['BatchNorm2d8'], 'BatchNorm2d8': ['ReLU8'], 'ReLU8': ['Conv2d8'], 'Conv2d8': ['cat4', 'cat5', 'cat6', 'BatchNorm2d14'], 'BatchNorm2d14': ['ReLU14'], 'const4': ['cat4'], 'BatchNorm2d9': ['ReLU9'], 'ReLU9': ['Conv2d9'], 'Conv2d9': ['BatchNorm2d10'], 'BatchNorm2d10': ['ReLU10'], 'ReLU10': ['Conv2d10'], 'Conv2d10': ['cat5', 'cat6'], 'ReLU14': ['Conv2d14'], 'const5': ['cat5'], 'BatchNorm2d11': ['ReLU11'], 'ReLU11': ['Conv2d11'], 'Conv2d11': ['BatchNorm2d12'], 'BatchNorm2d12': ['ReLU12'], 'ReLU12': ['Conv2d12'], 'Conv2d12': ['cat6'], 'BatchNorm2d16': ['ReLU16'], 'const6': ['cat6'], 'BatchNorm2d13': ['ReLU13'], 'ReLU13': ['Conv2d13'], 'Conv2d13': ['AvgPool2d0'], 'const7': ['cat7'], 'ReLU44': ['Conv2d44'], 'Conv2d44': ['cat23', 'cat24', 'cat25', 'cat26', 'cat27', 'cat28', 'cat29', 'cat30', 'cat31', 'cat32', 'cat33', 'cat34', 'cat35', 'cat36', 'cat37', 'cat38', 'cat39', 'cat40', 'cat41', 'cat42', 'cat43', 'cat44'], 'BatchNorm2d44': ['ReLU44'], 'const8': ['cat8'], 'ReLU16': ['Conv2d16'], 'Conv2d16': ['BatchNorm2d17'], 'const9': ['cat9'], 'BatchNorm2d18': ['ReLU18'], 'ReLU18': ['Conv2d18'], 'Conv2d18': ['BatchNorm2d19'], 'BatchNorm2d19': ['ReLU19'], 'ReLU19': ['Conv2d19'], 'Conv2d19': ['cat10', 'cat11', 'cat12', 'cat13', 'cat14', 'cat15', 'cat16', 'cat17', 'cat18', 'cat19'], 'const10': ['cat10'], 'BatchNorm2d20': ['ReLU20'], 'ReLU20': ['Conv2d20'], 'Conv2d20': ['BatchNorm2d21'], 'BatchNorm2d21': ['ReLU21'], 'ReLU21': ['Conv2d21'], 'Conv2d21': ['cat11', 'cat12', 'cat13', 'cat14', 'cat15', 'cat16', 'cat17', 'cat18', 'cat19'], 'const11': ['cat11'], 'BatchNorm2d22': ['ReLU22'], 'ReLU22': ['Conv2d22'], 'Conv2d22': ['BatchNorm2d23'], 'BatchNorm2d23': ['ReLU23'], 'ReLU23': ['Conv2d23'], 'Conv2d23': ['cat12', 'cat13', 'cat14', 'cat15', 'cat16', 'cat17', 'cat18', 'cat19'], 'BatchNorm2d40': ['ReLU40'], 'Conv2d39': ['BatchNorm2d40'], 'const12': ['cat12'], 'BatchNorm2d24': ['ReLU24'], 'ReLU24': ['Conv2d24'], 'Conv2d24': ['BatchNorm2d25'], 'BatchNorm2d25': ['ReLU25'], 'ReLU25': ['Conv2d25'], 'Conv2d25': ['cat13', 'cat14', 'cat15', 'cat16', 'cat17', 'cat18', 'cat19'], 'ReLU40': ['Conv2d40'], 'Conv2d40': ['cat21', 'cat22', 'cat23', 'cat24', 'cat25', 'cat26', 'cat27', 'cat28', 'cat29', 'cat30', 'cat31', 'cat32', 'cat33', 'cat34', 'cat35', 'cat36', 'cat37', 'cat38', 'cat39', 'cat40', 'cat41', 'cat42', 'cat43', 'cat44'], 'const13': ['cat13'], 'BatchNorm2d26': ['ReLU26'], 'ReLU26': ['Conv2d26'], 'Conv2d26': ['BatchNorm2d27'], 'BatchNorm2d27': ['ReLU27'], 'ReLU27': ['Conv2d27'], 'Conv2d27': ['cat14', 'cat15', 'cat16', 'cat17', 'cat18', 'cat19'], 'const14': ['cat14'], 'BatchNorm2d28': ['ReLU28'], 'ReLU28': ['Conv2d28'], 'Conv2d28': ['BatchNorm2d29'], 'BatchNorm2d29': ['ReLU29'], 'ReLU29': ['Conv2d29'], 'Conv2d29': ['cat15', 'cat16', 'cat17', 'cat18', 'cat19'], 'const15': ['cat15'], 'BatchNorm2d30': ['ReLU30'], 'ReLU30': ['Conv2d30'], 'Conv2d30': ['BatchNorm2d31'], 'BatchNorm2d31': ['ReLU31'], 'ReLU31': ['Conv2d31'], 'Conv2d31': ['cat16', 'cat17', 'cat18', 'cat19'], 'const16': ['cat16'], 'BatchNorm2d32': ['ReLU32'], 'ReLU32': ['Conv2d32'], 'Conv2d32': ['BatchNorm2d33'], 'BatchNorm2d33': ['ReLU33'], 'ReLU33': ['Conv2d33'], 'Conv2d33': ['cat17', 'cat18', 'cat19'], 'const17': ['cat17'], 'BatchNorm2d34': ['ReLU34'], 'ReLU34': ['Conv2d34'], 'Conv2d34': ['BatchNorm2d35'], 'BatchNorm2d35': ['ReLU35'], 'ReLU35': ['Conv2d35'], 'Conv2d35': ['cat18', 'cat19'], 'ReLU42': ['Conv2d42'], 'Conv2d42': ['cat22', 'cat23', 'cat24', 'cat25', 'cat26', 'cat27', 'cat28', 'cat29', 'cat30', 'cat31', 'cat32', 'cat33', 'cat34', 'cat35', 'cat36', 'cat37', 'cat38', 'cat39', 'cat40', 'cat41', 'cat42', 'cat43', 'cat44'], 'BatchNorm2d42': ['ReLU42'], 'const18': ['cat18'], 'BatchNorm2d36': ['ReLU36'], 'ReLU36': ['Conv2d36'], 'Conv2d36': ['BatchNorm2d37'], 'BatchNorm2d37': ['ReLU37'], 'ReLU37': ['Conv2d37'], 'Conv2d37': ['cat19'], 'ReLU48': ['Conv2d48'], 'Conv2d48': ['cat25', 'cat26', 'cat27', 'cat28', 'cat29', 'cat30', 'cat31', 'cat32', 'cat33', 'cat34', 'cat35', 'cat36', 'cat37', 'cat38', 'cat39', 'cat40', 'cat41', 'cat42', 'cat43', 'cat44'], 'BatchNorm2d48': ['ReLU48'], 'const19': ['cat19'], 'BatchNorm2d38': ['ReLU38'], 'ReLU38': ['Conv2d38'], 'Conv2d38': ['AvgPool2d1'], 'AvgPool2d1': ['cat20', 'cat21', 'cat22', 'cat23', 'cat24', 'cat25', 'cat26', 'cat27', 'cat28', 'cat29', 'cat30', 'cat31', 'cat32', 'cat33', 'cat34', 'cat35', 'cat36', 'cat37', 'cat38', 'cat39', 'cat40', 'cat41', 'cat42', 'cat43', 'cat44'], 'cat20': ['BatchNorm2d39'], 'cat21': ['BatchNorm2d41'], 'cat22': ['BatchNorm2d43'], 'cat23': ['BatchNorm2d45'], 'cat24': ['BatchNorm2d47'], 'cat25': ['BatchNorm2d49'], 'cat26': ['BatchNorm2d51'], 'cat27': ['BatchNorm2d53'], 'cat28': ['BatchNorm2d55'], 'cat29': ['BatchNorm2d57'], 'cat30': ['BatchNorm2d59'], 'cat31': ['BatchNorm2d61'], 'cat32': ['BatchNorm2d63'], 'cat33': ['BatchNorm2d65'], 'cat34': ['BatchNorm2d67'], 'cat35': ['BatchNorm2d69'], 'cat36': ['BatchNorm2d71'], 'cat37': ['BatchNorm2d73'], 'cat38': ['BatchNorm2d75'], 'cat39': ['BatchNorm2d77'], 'cat40': ['BatchNorm2d79'], 'cat41': ['BatchNorm2d81'], 'cat42': ['BatchNorm2d83'], 'cat43': ['BatchNorm2d85'], 'cat44': ['BatchNorm2d87'], 'cat45': ['BatchNorm2d88'], 'cat46': ['BatchNorm2d90'], 'cat47': ['BatchNorm2d92'], 'cat48': ['BatchNorm2d94'], 'cat49': ['BatchNorm2d96'], 'cat50': ['BatchNorm2d98'], 'cat51': ['BatchNorm2d100'], 'cat52': ['BatchNorm2d102'], 'cat53': ['BatchNorm2d104'], 'cat54': ['BatchNorm2d106'], 'cat55': ['BatchNorm2d108'], 'cat56': ['BatchNorm2d110'], 'cat57': ['BatchNorm2d112'], 'cat58': ['BatchNorm2d114'], 'cat59': ['BatchNorm2d116'], 'cat60': ['BatchNorm2d118'], 'cat61': ['BatchNorm2d120'], 'relu_0': ['adaptive_avg_pool2d0'], 'adaptive_avg_pool2d0': ['flatten0'], 'AvgPool2d2': ['cat45', 'cat46', 'cat47', 'cat48', 'cat49', 'cat50', 'cat51', 'cat52', 'cat53', 'cat54', 'cat55', 'cat56', 'cat57', 'cat58', 'cat59', 'cat60', 'cat61'], 'BatchNorm2d120': ['relu_0'], 'const20': ['cat20'], 'BatchNorm2d39': ['ReLU39'], 'ReLU39': ['Conv2d39'], 'BatchNorm2d89': ['ReLU89'], 'Conv2d88': ['BatchNorm2d89'], 'const21': ['cat21'], 'BatchNorm2d41': ['ReLU41'], 'ReLU41': ['Conv2d41'], 'Conv2d41': ['BatchNorm2d42'], 'const22': ['cat22'], 'BatchNorm2d43': ['ReLU43'], 'ReLU43': ['Conv2d43'], 'Conv2d43': ['BatchNorm2d44'], 'Conv2d107': ['cat55', 'cat56', 'cat57', 'cat58', 'cat59', 'cat60', 'cat61'], 'const23': ['cat23'], 'BatchNorm2d45': ['ReLU45'], 'ReLU45': ['Conv2d45'], 'Conv2d45': ['BatchNorm2d46'], 'BatchNorm2d46': ['ReLU46'], 'ReLU46': ['Conv2d46'], 'Conv2d46': ['cat24', 'cat25', 'cat26', 'cat27', 'cat28', 'cat29', 'cat30', 'cat31', 'cat32', 'cat33', 'cat34', 'cat35', 'cat36', 'cat37', 'cat38', 'cat39', 'cat40', 'cat41', 'cat42', 'cat43', 'cat44'], 'Conv2d105': ['cat54', 'cat55', 'cat56', 'cat57', 'cat58', 'cat59', 'cat60', 'cat61'], 'const24': ['cat24'], 'BatchNorm2d47': ['ReLU47'], 'ReLU47': ['Conv2d47'], 'Conv2d47': ['BatchNorm2d48'], 'const25': ['cat25'], 'BatchNorm2d49': ['ReLU49'], 'ReLU49': ['Conv2d49'], 'Conv2d49': ['BatchNorm2d50'], 'BatchNorm2d50': ['ReLU50'], 'ReLU50': ['Conv2d50'], 'Conv2d50': ['cat26', 'cat27', 'cat28', 'cat29', 'cat30', 'cat31', 'cat32', 'cat33', 'cat34', 'cat35', 'cat36', 'cat37', 'cat38', 'cat39', 'cat40', 'cat41', 'cat42', 'cat43', 'cat44'], 'Conv2d113': ['cat58', 'cat59', 'cat60', 'cat61'], 'const26': ['cat26'], 'BatchNorm2d51': ['ReLU51'], 'ReLU51': ['Conv2d51'], 'ReLU52': ['Conv2d52'], 'Conv2d52': ['cat27', 'cat28', 'cat29', 'cat30', 'cat31', 'cat32', 'cat33', 'cat34', 'cat35', 'cat36', 'cat37', 'cat38', 'cat39', 'cat40', 'cat41', 'cat42', 'cat43', 'cat44'], 'ReLU89': ['Conv2d89'], 'Conv2d89': ['cat46', 'cat47', 'cat48', 'cat49', 'cat50', 'cat51', 'cat52', 'cat53', 'cat54', 'cat55', 'cat56', 'cat57', 'cat58', 'cat59', 'cat60', 'cat61'], 'const27': ['cat27'], 'BatchNorm2d53': ['ReLU53'], 'ReLU53': ['Conv2d53'], 'Conv2d53': ['BatchNorm2d54'], 'BatchNorm2d54': ['ReLU54'], 'ReLU54': ['Conv2d54'], 'Conv2d54': ['cat28', 'cat29', 'cat30', 'cat31', 'cat32', 'cat33', 'cat34', 'cat35', 'cat36', 'cat37', 'cat38', 'cat39', 'cat40', 'cat41', 'cat42', 'cat43', 'cat44'], 'const28': ['cat28'], 'BatchNorm2d55': ['ReLU55'], 'ReLU55': ['Conv2d55'], 'Conv2d55': ['BatchNorm2d56'], 'BatchNorm2d56': ['ReLU56'], 'ReLU56': ['Conv2d56'], 'Conv2d56': ['cat29', 'cat30', 'cat31', 'cat32', 'cat33', 'cat34', 'cat35', 'cat36', 'cat37', 'cat38', 'cat39', 'cat40', 'cat41', 'cat42', 'cat43', 'cat44'], 'const29': ['cat29'], 'BatchNorm2d57': ['ReLU57'], 'ReLU57': ['Conv2d57'], 'Conv2d57': ['BatchNorm2d58'], 'BatchNorm2d58': ['ReLU58'], 'ReLU58': ['Conv2d58'], 'Conv2d58': ['cat30', 'cat31', 'cat32', 'cat33', 'cat34', 'cat35', 'cat36', 'cat37', 'cat38', 'cat39', 'cat40', 'cat41', 'cat42', 'cat43', 'cat44'], 'const30': ['cat30'], 'BatchNorm2d59': ['ReLU59'], 'ReLU59': ['Conv2d59'], 'Conv2d59': ['BatchNorm2d60'], 'BatchNorm2d60': ['ReLU60'], 'ReLU60': ['Conv2d60'], 'Conv2d60': ['cat31', 'cat32', 'cat33', 'cat34', 'cat35', 'cat36', 'cat37', 'cat38', 'cat39', 'cat40', 'cat41', 'cat42', 'cat43', 'cat44'], 'ReLU95': ['Conv2d95'], 'Conv2d95': ['cat49', 'cat50', 'cat51', 'cat52', 'cat53', 'cat54', 'cat55', 'cat56', 'cat57', 'cat58', 'cat59', 'cat60', 'cat61'], 'BatchNorm2d95': ['ReLU95'], 'const31': ['cat31'], 'BatchNorm2d61': ['ReLU61'], 'ReLU61': ['Conv2d61'], 'Conv2d61': ['BatchNorm2d62'], 'BatchNorm2d62': ['ReLU62'], 'ReLU62': ['Conv2d62'], 'Conv2d62': ['cat32', 'cat33', 'cat34', 'cat35', 'cat36', 'cat37', 'cat38', 'cat39', 'cat40', 'cat41', 'cat42', 'cat43', 'cat44'], 'flatten0': ['Linear0'], 'Linear0': [], 'const32': ['cat32'], 'BatchNorm2d63': ['ReLU63'], 'ReLU63': ['Conv2d63'], 'Conv2d63': ['BatchNorm2d64'], 'BatchNorm2d64': ['ReLU64'], 'ReLU64': ['Conv2d64'], 'Conv2d64': ['cat33', 'cat34', 'cat35', 'cat36', 'cat37', 'cat38', 'cat39', 'cat40', 'cat41', 'cat42', 'cat43', 'cat44'], 'ReLU93': ['Conv2d93'], 'Conv2d93': ['cat48', 'cat49', 'cat50', 'cat51', 'cat52', 'cat53', 'cat54', 'cat55', 'cat56', 'cat57', 'cat58', 'cat59', 'cat60', 'cat61'], 'BatchNorm2d93': ['ReLU93'], 'const33': ['cat33'], 'BatchNorm2d65': ['ReLU65'], 'ReLU65': ['Conv2d65'], 'Conv2d65': ['BatchNorm2d66'], 'BatchNorm2d66': ['ReLU66'], 'ReLU66': ['Conv2d66'], 'Conv2d66': ['cat34', 'cat35', 'cat36', 'cat37', 'cat38', 'cat39', 'cat40', 'cat41', 'cat42', 'cat43', 'cat44'], 'ReLU91': ['Conv2d91'], 'Conv2d91': ['cat47', 'cat48', 'cat49', 'cat50', 'cat51', 'cat52', 'cat53', 'cat54', 'cat55', 'cat56', 'cat57', 'cat58', 'cat59', 'cat60', 'cat61'], 'BatchNorm2d91': ['ReLU91'], 'const34': ['cat34'], 'BatchNorm2d67': ['ReLU67'], 'ReLU67': ['Conv2d67'], 'Conv2d67': ['BatchNorm2d68'], 'BatchNorm2d68': ['ReLU68'], 'ReLU68': ['Conv2d68'], 'Conv2d68': ['cat35', 'cat36', 'cat37', 'cat38', 'cat39', 'cat40', 'cat41', 'cat42', 'cat43', 'cat44'], 'const35': ['cat35'], 'BatchNorm2d69': ['ReLU69'], 'ReLU69': ['Conv2d69'], 'Conv2d69': ['BatchNorm2d70'], 'BatchNorm2d70': ['ReLU70'], 'ReLU70': ['Conv2d70'], 'Conv2d70': ['cat36', 'cat37', 'cat38', 'cat39', 'cat40', 'cat41', 'cat42', 'cat43', 'cat44'], 'const36': ['cat36'], 'BatchNorm2d71': ['ReLU71'], 'ReLU71': ['Conv2d71'], 'Conv2d71': ['BatchNorm2d72'], 'BatchNorm2d72': ['ReLU72'], 'ReLU72': ['Conv2d72'], 'Conv2d72': ['cat37', 'cat38', 'cat39', 'cat40', 'cat41', 'cat42', 'cat43', 'cat44'], 'Conv2d90': ['BatchNorm2d91'], 'const37': ['cat37'], 'BatchNorm2d73': ['ReLU73'], 'ReLU73': ['Conv2d73'], 'Conv2d73': ['BatchNorm2d74'], 'BatchNorm2d74': ['ReLU74'], 'ReLU74': ['Conv2d74'], 'Conv2d74': ['cat38', 'cat39', 'cat40', 'cat41', 'cat42', 'cat43', 'cat44'], 'ReLU97': ['Conv2d97'], 'Conv2d97': ['cat50', 'cat51', 'cat52', 'cat53', 'cat54', 'cat55', 'cat56', 'cat57', 'cat58', 'cat59', 'cat60', 'cat61'], 'BatchNorm2d97': ['ReLU97'], 'const38': ['cat38'], 'BatchNorm2d75': ['ReLU75'], 'ReLU75': ['Conv2d75'], 'Conv2d75': ['BatchNorm2d76'], 'BatchNorm2d76': ['ReLU76'], 'ReLU76': ['Conv2d76'], 'Conv2d76': ['cat39', 'cat40', 'cat41', 'cat42', 'cat43', 'cat44'], 'const39': ['cat39'], 'BatchNorm2d77': ['ReLU77'], 'ReLU77': ['Conv2d77'], 'Conv2d77': ['BatchNorm2d78'], 'BatchNorm2d78': ['ReLU78'], 'ReLU78': ['Conv2d78'], 'Conv2d78': ['cat40', 'cat41', 'cat42', 'cat43', 'cat44'], 'BatchNorm2d99': ['ReLU99'], 'Conv2d98': ['BatchNorm2d99'], 'const40': ['cat40'], 'BatchNorm2d79': ['ReLU79'], 'ReLU79': ['Conv2d79'], 'Conv2d79': ['BatchNorm2d80'], 'BatchNorm2d80': ['ReLU80'], 'ReLU80': ['Conv2d80'], 'Conv2d80': ['cat41', 'cat42', 'cat43', 'cat44'], 'Conv2d92': ['BatchNorm2d93'], 'const41': ['cat41'], 'BatchNorm2d81': ['ReLU81'], 'ReLU81': ['Conv2d81'], 'Conv2d81': ['BatchNorm2d82'], 'BatchNorm2d82': ['ReLU82'], 'ReLU82': ['Conv2d82'], 'Conv2d82': ['cat42', 'cat43', 'cat44'], 'const42': ['cat42'], 'BatchNorm2d83': ['ReLU83'], 'ReLU83': ['Conv2d83'], 'Conv2d83': ['BatchNorm2d84'], 'BatchNorm2d84': ['ReLU84'], 'ReLU84': ['Conv2d84'], 'Conv2d84': ['cat43', 'cat44'], 'const43': ['cat43'], 'BatchNorm2d85': ['ReLU85'], 'ReLU85': ['Conv2d85'], 'Conv2d85': ['BatchNorm2d86'], 'BatchNorm2d86': ['ReLU86'], 'ReLU86': ['Conv2d86'], 'Conv2d86': ['cat44'], 'ReLU99': ['Conv2d99'], 'Conv2d99': ['cat51', 'cat52', 'cat53', 'cat54', 'cat55', 'cat56', 'cat57', 'cat58', 'cat59', 'cat60', 'cat61'], 'const44': ['cat44'], 'BatchNorm2d87': ['ReLU87'], 'ReLU87': ['Conv2d87'], 'Conv2d87': ['AvgPool2d2'], 'const45': ['cat45'], 'BatchNorm2d88': ['ReLU88'], 'ReLU88': ['Conv2d88'], 'const46': ['cat46'], 'BatchNorm2d90': ['ReLU90'], 'ReLU90': ['Conv2d90'], 'const47': ['cat47'], 'BatchNorm2d92': ['ReLU92'], 'ReLU92': ['Conv2d92'], 'const48': ['cat48'], 'BatchNorm2d94': ['ReLU94'], 'ReLU94': ['Conv2d94'], 'Conv2d94': ['BatchNorm2d95'], 'const49': ['cat49'], 'BatchNorm2d96': ['ReLU96'], 'ReLU96': ['Conv2d96'], 'Conv2d96': ['BatchNorm2d97'], 'const50': ['cat50'], 'BatchNorm2d98': ['ReLU98'], 'ReLU98': ['Conv2d98'], 'const51': ['cat51'], 'BatchNorm2d100': ['ReLU100'], 'ReLU100': ['Conv2d100'], 'Conv2d100': ['BatchNorm2d101'], 'BatchNorm2d101': ['ReLU101'], 'ReLU101': ['Conv2d101'], 'Conv2d101': ['cat52', 'cat53', 'cat54', 'cat55', 'cat56', 'cat57', 'cat58', 'cat59', 'cat60', 'cat61'], 'const52': ['cat52'], 'BatchNorm2d102': ['ReLU102'], 'ReLU102': ['Conv2d102'], 'Conv2d102': ['BatchNorm2d103'], 'BatchNorm2d103': ['ReLU103'], 'ReLU103': ['Conv2d103'], 'Conv2d103': ['cat53', 'cat54', 'cat55', 'cat56', 'cat57', 'cat58', 'cat59', 'cat60', 'cat61'], 'const53': ['cat53'], 'BatchNorm2d104': ['ReLU104'], 'ReLU104': ['Conv2d104'], 'Conv2d104': ['BatchNorm2d105'], 'BatchNorm2d105': ['ReLU105'], 'ReLU105': ['Conv2d105'], 'const54': ['cat54'], 'BatchNorm2d106': ['ReLU106'], 'ReLU106': ['Conv2d106'], 'Conv2d106': ['BatchNorm2d107'], 'BatchNorm2d107': ['ReLU107'], 'ReLU107': ['Conv2d107'], 'const55': ['cat55'], 'BatchNorm2d108': ['ReLU108'], 'ReLU108': ['Conv2d108'], 'Conv2d108': ['BatchNorm2d109'], 'BatchNorm2d109': ['ReLU109'], 'ReLU109': ['Conv2d109'], 'Conv2d109': ['cat56', 'cat57', 'cat58', 'cat59', 'cat60', 'cat61'], 'const56': ['cat56'], 'BatchNorm2d110': ['ReLU110'], 'ReLU110': ['Conv2d110'], 'Conv2d110': ['BatchNorm2d111'], 'BatchNorm2d111': ['ReLU111'], 'ReLU111': ['Conv2d111'], 'Conv2d111': ['cat57', 'cat58', 'cat59', 'cat60', 'cat61'], 'const57': ['cat57'], 'BatchNorm2d112': ['ReLU112'], 'ReLU112': ['Conv2d112'], 'Conv2d112': ['BatchNorm2d113'], 'BatchNorm2d113': ['ReLU113'], 'ReLU113': ['Conv2d113'], 'const58': ['cat58'], 'BatchNorm2d114': ['ReLU114'], 'ReLU114': ['Conv2d114'], 'Conv2d114': ['BatchNorm2d115'], 'BatchNorm2d115': ['ReLU115'], 'ReLU115': ['Conv2d115'], 'Conv2d115': ['cat59', 'cat60', 'cat61'], 'const59': ['cat59'], 'BatchNorm2d116': ['ReLU116'], 'ReLU116': ['Conv2d116'], 'Conv2d116': ['BatchNorm2d117'], 'BatchNorm2d117': ['ReLU117'], 'ReLU117': ['Conv2d117'], 'Conv2d117': ['cat60', 'cat61'], 'const60': ['cat60'], 'BatchNorm2d118': ['ReLU118'], 'ReLU118': ['Conv2d118'], 'Conv2d118': ['BatchNorm2d119'], 'BatchNorm2d119': ['ReLU119'], 'ReLU119': ['Conv2d119'], 'Conv2d119': ['cat61'], 'const61': ['cat61'], 'const62': ['adaptive_avg_pool2d0'], 'const63': ['adaptive_avg_pool2d0'], 'const64': ['flatten0']}"
      ]
     },
     "execution_count": 9,
     "metadata": {},
     "output_type": "execute_result"
    }
   ],
   "source": [
    "model = models.densenet121()\n",
    "inp = torch.rand((1,3,224,224))\n",
    "with TorchTracer() as tt:\n",
    "    tt.trace_model(model, inp)\n",
    "    model.graph = tt.to_graph()\n",
    "\n",
    "model.graph.to_namegraph()"
   ]
  },
  {
   "cell_type": "code",
   "execution_count": 10,
   "metadata": {},
   "outputs": [
    {
     "data": {
      "text/plain": [
       "{'graph_names': [], 'model_names': []}"
      ]
     },
     "execution_count": 10,
     "metadata": {},
     "output_type": "execute_result"
    }
   ],
   "source": [
    "# Find all modules which used multiple times during forward. \n",
    "# If there is reused modules pytorch1.6 quantization won't work correctly.\n",
    "comp.get_reused_modules(model)"
   ]
  },
  {
   "cell_type": "code",
   "execution_count": 11,
   "metadata": {
    "scrolled": true
   },
   "outputs": [
    {
     "data": {
      "text/plain": [
       "['cat0',\n",
       " 'cat1',\n",
       " 'cat2',\n",
       " 'cat3',\n",
       " 'cat4',\n",
       " 'cat5',\n",
       " 'cat6',\n",
       " 'cat7',\n",
       " 'cat8',\n",
       " 'cat9',\n",
       " 'cat10',\n",
       " 'cat11',\n",
       " 'cat12',\n",
       " 'cat13',\n",
       " 'cat14',\n",
       " 'cat15',\n",
       " 'cat16',\n",
       " 'cat17',\n",
       " 'cat18',\n",
       " 'cat19',\n",
       " 'cat20',\n",
       " 'cat21',\n",
       " 'cat22',\n",
       " 'cat23',\n",
       " 'cat24',\n",
       " 'cat25',\n",
       " 'cat26',\n",
       " 'cat27',\n",
       " 'cat28',\n",
       " 'cat29',\n",
       " 'cat30',\n",
       " 'cat31',\n",
       " 'cat32',\n",
       " 'cat33',\n",
       " 'cat34',\n",
       " 'cat35',\n",
       " 'cat36',\n",
       " 'cat37',\n",
       " 'cat38',\n",
       " 'cat39',\n",
       " 'cat40',\n",
       " 'cat41',\n",
       " 'cat42',\n",
       " 'cat43',\n",
       " 'cat44',\n",
       " 'cat45',\n",
       " 'cat46',\n",
       " 'cat47',\n",
       " 'cat48',\n",
       " 'cat49',\n",
       " 'cat50',\n",
       " 'cat51',\n",
       " 'cat52',\n",
       " 'cat53',\n",
       " 'cat54',\n",
       " 'cat55',\n",
       " 'cat56',\n",
       " 'cat57',\n",
       " 'cat58',\n",
       " 'cat59',\n",
       " 'cat60',\n",
       " 'cat61',\n",
       " 'relu_0',\n",
       " 'adaptive_avg_pool2d0',\n",
       " 'flatten0']"
      ]
     },
     "execution_count": 11,
     "metadata": {},
     "output_type": "execute_result"
    }
   ],
   "source": [
    "# In order to quantize pytorch model with 1.6 API we need to convert all non-module operations to modules.\n",
    "comp.get_non_module_ops(model)"
   ]
  },
  {
   "cell_type": "code",
   "execution_count": 12,
   "metadata": {},
   "outputs": [
    {
     "name": "stdout",
     "output_type": "stream",
     "text": [
      "Found 62 non module operations that should be converted to nn.quantized.FloatFunctional. compatability comp.get_non_module_ops(model) for more information.\n",
      "\n",
      "Found 120 inplace modules. In order to quantize this model set inplace=Fales instead.\n",
      "\n"
     ]
    }
   ],
   "source": [
    "# Helper function to check if model compatible with quantization\n",
    "comp.check_quantization_compatability(model)"
   ]
  }
 ],
 "metadata": {
  "kernelspec": {
   "display_name": "dist",
   "language": "python",
   "name": "dist"
  },
  "language_info": {
   "codemirror_mode": {
    "name": "ipython",
    "version": 3
   },
   "file_extension": ".py",
   "mimetype": "text/x-python",
   "name": "python",
   "nbconvert_exporter": "python",
   "pygments_lexer": "ipython3",
   "version": "3.7.2"
  }
 },
 "nbformat": 4,
 "nbformat_minor": 4
}
